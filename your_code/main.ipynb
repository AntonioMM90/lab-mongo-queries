{
 "cells": [
  {
   "cell_type": "markdown",
   "metadata": {},
   "source": [
    "# Advanced Querying Mongo"
   ]
  },
  {
   "cell_type": "markdown",
   "metadata": {},
   "source": [
    "Importing libraries and setting up connection"
   ]
  },
  {
   "cell_type": "code",
   "execution_count": 1,
   "metadata": {},
   "outputs": [],
   "source": [
    "from pymongo import MongoClient\n",
    "import pandas as pd"
   ]
  },
  {
   "cell_type": "code",
   "execution_count": 2,
   "metadata": {},
   "outputs": [],
   "source": [
    "client = MongoClient(\"localhost:27017\")"
   ]
  },
  {
   "cell_type": "code",
   "execution_count": 3,
   "metadata": {},
   "outputs": [
    {
     "data": {
      "text/plain": [
       "['admin', 'config', 'ironhack', 'local']"
      ]
     },
     "execution_count": 3,
     "metadata": {},
     "output_type": "execute_result"
    }
   ],
   "source": [
    "client.list_database_names()"
   ]
  },
  {
   "cell_type": "code",
   "execution_count": 4,
   "metadata": {},
   "outputs": [],
   "source": [
    "db = client.get_database(\"ironhack\")"
   ]
  },
  {
   "cell_type": "code",
   "execution_count": 5,
   "metadata": {},
   "outputs": [
    {
     "data": {
      "text/plain": [
       "['restaurants', 'companies']"
      ]
     },
     "execution_count": 5,
     "metadata": {},
     "output_type": "execute_result"
    }
   ],
   "source": [
    "db.list_collection_names()"
   ]
  },
  {
   "cell_type": "code",
   "execution_count": 6,
   "metadata": {},
   "outputs": [],
   "source": [
    "c = db.get_collection(\"companies\")"
   ]
  },
  {
   "cell_type": "code",
   "execution_count": 7,
   "metadata": {},
   "outputs": [],
   "source": [
    "pdc = list(c.find_one())"
   ]
  },
  {
   "cell_type": "code",
   "execution_count": 8,
   "metadata": {},
   "outputs": [
    {
     "data": {
      "text/html": [
       "<div>\n",
       "<style scoped>\n",
       "    .dataframe tbody tr th:only-of-type {\n",
       "        vertical-align: middle;\n",
       "    }\n",
       "\n",
       "    .dataframe tbody tr th {\n",
       "        vertical-align: top;\n",
       "    }\n",
       "\n",
       "    .dataframe thead th {\n",
       "        text-align: right;\n",
       "    }\n",
       "</style>\n",
       "<table border=\"1\" class=\"dataframe\">\n",
       "  <thead>\n",
       "    <tr style=\"text-align: right;\">\n",
       "      <th></th>\n",
       "      <th>0</th>\n",
       "    </tr>\n",
       "  </thead>\n",
       "  <tbody>\n",
       "    <tr>\n",
       "      <th>0</th>\n",
       "      <td>_id</td>\n",
       "    </tr>\n",
       "    <tr>\n",
       "      <th>1</th>\n",
       "      <td>name</td>\n",
       "    </tr>\n",
       "    <tr>\n",
       "      <th>2</th>\n",
       "      <td>permalink</td>\n",
       "    </tr>\n",
       "    <tr>\n",
       "      <th>3</th>\n",
       "      <td>crunchbase_url</td>\n",
       "    </tr>\n",
       "    <tr>\n",
       "      <th>4</th>\n",
       "      <td>homepage_url</td>\n",
       "    </tr>\n",
       "    <tr>\n",
       "      <th>5</th>\n",
       "      <td>blog_url</td>\n",
       "    </tr>\n",
       "    <tr>\n",
       "      <th>6</th>\n",
       "      <td>blog_feed_url</td>\n",
       "    </tr>\n",
       "    <tr>\n",
       "      <th>7</th>\n",
       "      <td>twitter_username</td>\n",
       "    </tr>\n",
       "    <tr>\n",
       "      <th>8</th>\n",
       "      <td>category_code</td>\n",
       "    </tr>\n",
       "    <tr>\n",
       "      <th>9</th>\n",
       "      <td>number_of_employees</td>\n",
       "    </tr>\n",
       "    <tr>\n",
       "      <th>10</th>\n",
       "      <td>founded_year</td>\n",
       "    </tr>\n",
       "    <tr>\n",
       "      <th>11</th>\n",
       "      <td>founded_month</td>\n",
       "    </tr>\n",
       "    <tr>\n",
       "      <th>12</th>\n",
       "      <td>founded_day</td>\n",
       "    </tr>\n",
       "    <tr>\n",
       "      <th>13</th>\n",
       "      <td>deadpooled_year</td>\n",
       "    </tr>\n",
       "    <tr>\n",
       "      <th>14</th>\n",
       "      <td>tag_list</td>\n",
       "    </tr>\n",
       "    <tr>\n",
       "      <th>15</th>\n",
       "      <td>alias_list</td>\n",
       "    </tr>\n",
       "    <tr>\n",
       "      <th>16</th>\n",
       "      <td>email_address</td>\n",
       "    </tr>\n",
       "    <tr>\n",
       "      <th>17</th>\n",
       "      <td>phone_number</td>\n",
       "    </tr>\n",
       "    <tr>\n",
       "      <th>18</th>\n",
       "      <td>description</td>\n",
       "    </tr>\n",
       "    <tr>\n",
       "      <th>19</th>\n",
       "      <td>created_at</td>\n",
       "    </tr>\n",
       "    <tr>\n",
       "      <th>20</th>\n",
       "      <td>updated_at</td>\n",
       "    </tr>\n",
       "    <tr>\n",
       "      <th>21</th>\n",
       "      <td>overview</td>\n",
       "    </tr>\n",
       "    <tr>\n",
       "      <th>22</th>\n",
       "      <td>image</td>\n",
       "    </tr>\n",
       "    <tr>\n",
       "      <th>23</th>\n",
       "      <td>products</td>\n",
       "    </tr>\n",
       "    <tr>\n",
       "      <th>24</th>\n",
       "      <td>relationships</td>\n",
       "    </tr>\n",
       "    <tr>\n",
       "      <th>25</th>\n",
       "      <td>competitions</td>\n",
       "    </tr>\n",
       "    <tr>\n",
       "      <th>26</th>\n",
       "      <td>providerships</td>\n",
       "    </tr>\n",
       "    <tr>\n",
       "      <th>27</th>\n",
       "      <td>total_money_raised</td>\n",
       "    </tr>\n",
       "    <tr>\n",
       "      <th>28</th>\n",
       "      <td>funding_rounds</td>\n",
       "    </tr>\n",
       "    <tr>\n",
       "      <th>29</th>\n",
       "      <td>investments</td>\n",
       "    </tr>\n",
       "    <tr>\n",
       "      <th>30</th>\n",
       "      <td>acquisition</td>\n",
       "    </tr>\n",
       "    <tr>\n",
       "      <th>31</th>\n",
       "      <td>acquisitions</td>\n",
       "    </tr>\n",
       "    <tr>\n",
       "      <th>32</th>\n",
       "      <td>offices</td>\n",
       "    </tr>\n",
       "    <tr>\n",
       "      <th>33</th>\n",
       "      <td>milestones</td>\n",
       "    </tr>\n",
       "    <tr>\n",
       "      <th>34</th>\n",
       "      <td>video_embeds</td>\n",
       "    </tr>\n",
       "    <tr>\n",
       "      <th>35</th>\n",
       "      <td>screenshots</td>\n",
       "    </tr>\n",
       "    <tr>\n",
       "      <th>36</th>\n",
       "      <td>external_links</td>\n",
       "    </tr>\n",
       "    <tr>\n",
       "      <th>37</th>\n",
       "      <td>partners</td>\n",
       "    </tr>\n",
       "  </tbody>\n",
       "</table>\n",
       "</div>"
      ],
      "text/plain": [
       "                      0\n",
       "0                   _id\n",
       "1                  name\n",
       "2             permalink\n",
       "3        crunchbase_url\n",
       "4          homepage_url\n",
       "5              blog_url\n",
       "6         blog_feed_url\n",
       "7      twitter_username\n",
       "8         category_code\n",
       "9   number_of_employees\n",
       "10         founded_year\n",
       "11        founded_month\n",
       "12          founded_day\n",
       "13      deadpooled_year\n",
       "14             tag_list\n",
       "15           alias_list\n",
       "16        email_address\n",
       "17         phone_number\n",
       "18          description\n",
       "19           created_at\n",
       "20           updated_at\n",
       "21             overview\n",
       "22                image\n",
       "23             products\n",
       "24        relationships\n",
       "25         competitions\n",
       "26        providerships\n",
       "27   total_money_raised\n",
       "28       funding_rounds\n",
       "29          investments\n",
       "30          acquisition\n",
       "31         acquisitions\n",
       "32              offices\n",
       "33           milestones\n",
       "34         video_embeds\n",
       "35          screenshots\n",
       "36       external_links\n",
       "37             partners"
      ]
     },
     "execution_count": 8,
     "metadata": {},
     "output_type": "execute_result"
    }
   ],
   "source": [
    "df = pd.DataFrame(pdc)\n",
    "df"
   ]
  },
  {
   "cell_type": "markdown",
   "metadata": {},
   "source": [
    "### 1. All the companies whose name match 'Babelgum'. Retrieve only their `name` field."
   ]
  },
  {
   "cell_type": "code",
   "execution_count": null,
   "metadata": {},
   "outputs": [],
   "source": []
  },
  {
   "cell_type": "code",
   "execution_count": 9,
   "metadata": {},
   "outputs": [],
   "source": [
    "filtro = {\"name\": \"Babelgum\"}\n",
    "proj = {\"_id\": 0, \"name\": 1}"
   ]
  },
  {
   "cell_type": "code",
   "execution_count": 10,
   "metadata": {},
   "outputs": [
    {
     "data": {
      "text/plain": [
       "[{'name': 'Babelgum'}]"
      ]
     },
     "execution_count": 10,
     "metadata": {},
     "output_type": "execute_result"
    }
   ],
   "source": [
    "list(c.find(filtro, proj))"
   ]
  },
  {
   "cell_type": "markdown",
   "metadata": {},
   "source": [
    "### 2. All the companies that have more than 5000 employees. Limit the search to 20 companies and sort them by **number of employees**."
   ]
  },
  {
   "cell_type": "code",
   "execution_count": 11,
   "metadata": {},
   "outputs": [],
   "source": [
    "filtro = {\"number_of_employees\": {\"$gt\": 5000}}\n",
    "proj = {\"_id\": 0, \"name\": 1, \"number_of_employees\": 1}"
   ]
  },
  {
   "cell_type": "code",
   "execution_count": 12,
   "metadata": {},
   "outputs": [
    {
     "data": {
      "text/plain": [
       "[{'name': 'Siemens', 'number_of_employees': 405000},\n",
       " {'name': 'IBM', 'number_of_employees': 388000},\n",
       " {'name': 'Toyota', 'number_of_employees': 320000},\n",
       " {'name': 'PayPal', 'number_of_employees': 300000},\n",
       " {'name': 'Nippon Telegraph and Telephone Corporation',\n",
       "  'number_of_employees': 227000}]"
      ]
     },
     "execution_count": 12,
     "metadata": {},
     "output_type": "execute_result"
    }
   ],
   "source": [
    "list(c.find(filtro,proj).limit(5).sort(\"number_of_employees\",-1))"
   ]
  },
  {
   "cell_type": "markdown",
   "metadata": {},
   "source": [
    "### 3. All the companies founded between 2000 and 2005, both years included. Retrieve only the `name` and `founded_year` fields."
   ]
  },
  {
   "cell_type": "code",
   "execution_count": 13,
   "metadata": {},
   "outputs": [],
   "source": [
    "#filtro = {\"number_of_employees\": {\"$gt\": 5000}}\n",
    "proj = {\"_id\": 0, \"name\": 1, \"founded_year\": 1}\n",
    "query = {\"$and\": [{\"founded_year\": {\"$gte\":2000}},{\"founded_year\": {\"$lte\":2005}}]}"
   ]
  },
  {
   "cell_type": "code",
   "execution_count": 14,
   "metadata": {},
   "outputs": [
    {
     "data": {
      "text/plain": [
       "[{'name': 'Wetpaint', 'founded_year': 2005},\n",
       " {'name': 'Zoho', 'founded_year': 2005},\n",
       " {'name': 'Digg', 'founded_year': 2004},\n",
       " {'name': 'Facebook', 'founded_year': 2004},\n",
       " {'name': 'Omnidrive', 'founded_year': 2005}]"
      ]
     },
     "execution_count": 14,
     "metadata": {},
     "output_type": "execute_result"
    }
   ],
   "source": [
    "list(c.find(query,proj).limit(5))"
   ]
  },
  {
   "cell_type": "markdown",
   "metadata": {},
   "source": [
    "### 4. All the companies that had a Valuation Amount of more than 100.000.000 and have been founded before 2010. Retrieve only the `name` and `ipo` fields."
   ]
  },
  {
   "cell_type": "code",
   "execution_count": 15,
   "metadata": {},
   "outputs": [],
   "source": [
    "proj = {\"_id\": 0, \"name\": 1, \"ipo\": 1}\n",
    "query = {\"$and\": [{\"founded_year\": {\"$lt\":2010}},{\"ipo.valuation_amount\": {\"$lt\":100000000}}]}"
   ]
  },
  {
   "cell_type": "code",
   "execution_count": 16,
   "metadata": {},
   "outputs": [
    {
     "data": {
      "text/plain": [
       "[{'name': 'Vringo',\n",
       "  'ipo': {'valuation_amount': 11003200,\n",
       "   'valuation_currency_code': 'USD',\n",
       "   'pub_year': 2010,\n",
       "   'pub_month': 6,\n",
       "   'pub_day': 22,\n",
       "   'stock_symbol': 'VRNG'}},\n",
       " {'name': 'Pironet',\n",
       "  'ipo': {'valuation_amount': 44000000,\n",
       "   'valuation_currency_code': 'EUR',\n",
       "   'pub_year': 2000,\n",
       "   'pub_month': 2,\n",
       "   'pub_day': 22,\n",
       "   'stock_symbol': 'PNG'}}]"
      ]
     },
     "execution_count": 16,
     "metadata": {},
     "output_type": "execute_result"
    }
   ],
   "source": [
    "list(c.find(query,proj).limit(2))"
   ]
  },
  {
   "cell_type": "markdown",
   "metadata": {},
   "source": [
    "### 5. All the companies that have less than 1000 employees and have been founded before 2005. Order them by the number of employees and limit the search to 10 companies."
   ]
  },
  {
   "cell_type": "code",
   "execution_count": 17,
   "metadata": {},
   "outputs": [],
   "source": [
    "# Your Code\n",
    "proj = {\"_id\": 0, \"name\": 1, \"number_of_employees\": 1}\n",
    "query = {\"$and\": [{\"founded_year\": {\"$lt\":2005}},{\"number_of_employees\": {\"$lt\":1000}}]}"
   ]
  },
  {
   "cell_type": "code",
   "execution_count": 18,
   "metadata": {},
   "outputs": [
    {
     "data": {
      "text/plain": [
       "[{'name': 'Infinera Corporation', 'number_of_employees': 974},\n",
       " {'name': 'NorthPoint Communications Group', 'number_of_employees': 948},\n",
       " {'name': '888 Holdings', 'number_of_employees': 931},\n",
       " {'name': 'Forrester Research', 'number_of_employees': 903},\n",
       " {'name': 'Webmetrics', 'number_of_employees': 900},\n",
       " {'name': 'SonicWALL', 'number_of_employees': 900},\n",
       " {'name': 'Cornerstone OnDemand', 'number_of_employees': 881},\n",
       " {'name': 'Buongiorno', 'number_of_employees': 800},\n",
       " {'name': 'Cvent', 'number_of_employees': 800},\n",
       " {'name': 'ZoomInfo', 'number_of_employees': 800}]"
      ]
     },
     "execution_count": 18,
     "metadata": {},
     "output_type": "execute_result"
    }
   ],
   "source": [
    "list(c.find(query,proj).limit(10).sort(\"number_of_employees\", -1))"
   ]
  },
  {
   "cell_type": "markdown",
   "metadata": {},
   "source": [
    "### 6. All the companies that don't include the `partners` field."
   ]
  },
  {
   "cell_type": "code",
   "execution_count": 55,
   "metadata": {},
   "outputs": [],
   "source": [
    "proj = {\"_id\": 0, \"name\": 1, \"partners\": 1}\n",
    "query = {\"partners\": {\"$exists\": False}}"
   ]
  },
  {
   "cell_type": "code",
   "execution_count": 56,
   "metadata": {},
   "outputs": [
    {
     "data": {
      "text/plain": [
       "[]"
      ]
     },
     "execution_count": 56,
     "metadata": {},
     "output_type": "execute_result"
    }
   ],
   "source": [
    "# Your Code\n",
    "list(c.find(query,proj).limit(5))"
   ]
  },
  {
   "cell_type": "markdown",
   "metadata": {},
   "source": [
    "### 7. All the companies that have a null type of value on the `category_code` field."
   ]
  },
  {
   "cell_type": "code",
   "execution_count": 57,
   "metadata": {},
   "outputs": [],
   "source": [
    "proj = {\"_id\": 0, \"name\": 1, \"category_code\": 1}\n",
    "query = {\"category_code\" : {'$type': 10}}"
   ]
  },
  {
   "cell_type": "code",
   "execution_count": 58,
   "metadata": {},
   "outputs": [
    {
     "data": {
      "text/plain": [
       "[{'name': 'Collective', 'category_code': None},\n",
       " {'name': 'Snimmer', 'category_code': None},\n",
       " {'name': 'KoolIM', 'category_code': None},\n",
       " {'name': 'Level9 Media', 'category_code': None},\n",
       " {'name': 'VidKing', 'category_code': None}]"
      ]
     },
     "execution_count": 58,
     "metadata": {},
     "output_type": "execute_result"
    }
   ],
   "source": [
    "# Your Code\n",
    "list(c.find(query,proj).limit(5))"
   ]
  },
  {
   "cell_type": "markdown",
   "metadata": {},
   "source": [
    "### 8. All the companies that have at least 100 employees but less than 1000. Retrieve only the `name` and `number of employees` fields."
   ]
  },
  {
   "cell_type": "code",
   "execution_count": 65,
   "metadata": {},
   "outputs": [],
   "source": [
    "filtro = {\"$and\": [{\"number_of_employees\": {\"$gte\":100}},{\"number_of_employees\": {\"$lte\":1000}}]}\n",
    "proj = {\"_id\": 0, \"name\": 1, \"number_of_employees\": 1}"
   ]
  },
  {
   "cell_type": "code",
   "execution_count": 67,
   "metadata": {},
   "outputs": [
    {
     "data": {
      "text/plain": [
       "[{'name': 'AdventNet', 'number_of_employees': 600},\n",
       " {'name': 'AddThis', 'number_of_employees': 120},\n",
       " {'name': 'OpenX', 'number_of_employees': 305},\n",
       " {'name': 'LifeLock', 'number_of_employees': 644},\n",
       " {'name': 'Jajah', 'number_of_employees': 110}]"
      ]
     },
     "execution_count": 67,
     "metadata": {},
     "output_type": "execute_result"
    }
   ],
   "source": [
    "# Your Code\n",
    "list(c.find(filtro, proj).limit(5))"
   ]
  },
  {
   "cell_type": "markdown",
   "metadata": {},
   "source": [
    "### 9. Order all the companies by their IPO price in a descending order."
   ]
  },
  {
   "cell_type": "code",
   "execution_count": 95,
   "metadata": {},
   "outputs": [],
   "source": [
    "filtro = {\"ipo.valuation_amount\": {\"$ne\": None}}\n",
    "proj = {\"_id\": 0, \"name\": 1, \"ipo.valuation_amount\": 1}"
   ]
  },
  {
   "cell_type": "code",
   "execution_count": 99,
   "metadata": {},
   "outputs": [
    {
     "data": {
      "text/plain": [
       "[{'name': 'GREE', 'number_of_employees': 700},\n",
       " {'name': 'Facebook', 'number_of_employees': 5299},\n",
       " {'name': 'Twitter', 'number_of_employees': 1300},\n",
       " {'name': 'Groupon', 'number_of_employees': 10000},\n",
       " {'name': 'LinkedIn', 'number_of_employees': 4800}]"
      ]
     },
     "execution_count": 99,
     "metadata": {},
     "output_type": "execute_result"
    }
   ],
   "source": [
    "# Your Code\n",
    "list(c.find(filtro, proj).sort(\"ipo.valuation_amount\", -1).limit(5))"
   ]
  },
  {
   "cell_type": "markdown",
   "metadata": {},
   "source": [
    "### 10. Retrieve the 10 companies with more employees, order by the `number of employees`"
   ]
  },
  {
   "cell_type": "code",
   "execution_count": 97,
   "metadata": {},
   "outputs": [],
   "source": [
    "proj = {\"_id\": 0, \"name\": 1, \"number_of_employees\": 1}\n",
    "filtro = {\"number_of_employees\": {\"$gt\": 1}}"
   ]
  },
  {
   "cell_type": "code",
   "execution_count": 100,
   "metadata": {},
   "outputs": [
    {
     "data": {
      "text/plain": [
       "[{'name': 'Siemens', 'number_of_employees': 405000},\n",
       " {'name': 'IBM', 'number_of_employees': 388000},\n",
       " {'name': 'Toyota', 'number_of_employees': 320000},\n",
       " {'name': 'PayPal', 'number_of_employees': 300000},\n",
       " {'name': 'Nippon Telegraph and Telephone Corporation',\n",
       "  'number_of_employees': 227000}]"
      ]
     },
     "execution_count": 100,
     "metadata": {},
     "output_type": "execute_result"
    }
   ],
   "source": [
    "# Your Code\n",
    "list(c.find(filtro, proj).sort(\"number_of_employees\", -1).limit(5))"
   ]
  },
  {
   "cell_type": "markdown",
   "metadata": {},
   "source": [
    "### 11. All the companies founded on the second semester of the year. Limit your search to 1000 companies."
   ]
  },
  {
   "cell_type": "code",
   "execution_count": 104,
   "metadata": {},
   "outputs": [],
   "source": [
    "# Your Code\n",
    "proj = {\"_id\": 0, \"name\": 1}\n",
    "filtro = {\"founded_month\": {\"$gte\" : 7}}"
   ]
  },
  {
   "cell_type": "code",
   "execution_count": 105,
   "metadata": {},
   "outputs": [
    {
     "data": {
      "text/plain": [
       "[{'name': 'Wetpaint'},\n",
       " {'name': 'Zoho'},\n",
       " {'name': 'Digg'},\n",
       " {'name': 'Omnidrive'},\n",
       " {'name': 'eBay'},\n",
       " {'name': 'Joost'},\n",
       " {'name': 'Plaxo'},\n",
       " {'name': 'Powerset'},\n",
       " {'name': 'Kyte'},\n",
       " {'name': 'Thoof'},\n",
       " {'name': 'Jingle Networks'},\n",
       " {'name': 'LifeLock'},\n",
       " {'name': 'Wesabe'},\n",
       " {'name': 'SmugMug'},\n",
       " {'name': 'Google'},\n",
       " {'name': 'Skype'},\n",
       " {'name': 'Pando Networks'},\n",
       " {'name': 'Ikan'},\n",
       " {'name': 'delicious'},\n",
       " {'name': 'AllPeers'},\n",
       " {'name': 'Wize'},\n",
       " {'name': 'SellABand'},\n",
       " {'name': 'iContact'},\n",
       " {'name': 'MeeVee'},\n",
       " {'name': 'blinkx'},\n",
       " {'name': 'Zlio'},\n",
       " {'name': 'Yelp'},\n",
       " {'name': 'Jaiku'},\n",
       " {'name': 'Yapta'},\n",
       " {'name': 'Fleck'},\n",
       " {'name': 'SideStep'},\n",
       " {'name': 'RockYou'},\n",
       " {'name': 'Instructables'},\n",
       " {'name': 'Netvibes'},\n",
       " {'name': 'Swivel'},\n",
       " {'name': 'Slide'},\n",
       " {'name': 'CrowdVine'},\n",
       " {'name': 'TheFind'},\n",
       " {'name': 'Sway'},\n",
       " {'name': 'CornerWorld'},\n",
       " {'name': 'FlickIM'},\n",
       " {'name': 'Terabitz'},\n",
       " {'name': 'Kaboodle'},\n",
       " {'name': 'GigaOM'},\n",
       " {'name': 'Redfin'},\n",
       " {'name': 'Wink'},\n",
       " {'name': 'Go2Web20'},\n",
       " {'name': 'TechnologyGuide'},\n",
       " {'name': 'Techmeme'},\n",
       " {'name': 'Ujogo'},\n",
       " {'name': 'Recipezaar'},\n",
       " {'name': 'Gumiyo'},\n",
       " {'name': 'stylediary'},\n",
       " {'name': 'Piczo'},\n",
       " {'name': 'Cyworld'},\n",
       " {'name': 'Socialtext'},\n",
       " {'name': 'ConnectMeAnywhere'},\n",
       " {'name': 'hi5'},\n",
       " {'name': 'Clipperz'},\n",
       " {'name': 'Tagged'},\n",
       " {'name': 'Nintendo'},\n",
       " {'name': 'Indeed'},\n",
       " {'name': 'Jaxtr'},\n",
       " {'name': 'Cerado'},\n",
       " {'name': 'ONEsite'},\n",
       " {'name': 'Wallhogs'},\n",
       " {'name': 'eBuddy'},\n",
       " {'name': 'Grockit'},\n",
       " {'name': 'Adobe Systems'},\n",
       " {'name': 'JumpBox'},\n",
       " {'name': 'Phonezoo'},\n",
       " {'name': 'LongJump'},\n",
       " {'name': 'Relationals'},\n",
       " {'name': 'Wishpot'},\n",
       " {'name': 'Forbes'},\n",
       " {'name': 'Boonex'},\n",
       " {'name': 'IntenseDebate'},\n",
       " {'name': 'Rebtel'},\n",
       " {'name': 'Buxfer'},\n",
       " {'name': 'boo-box'},\n",
       " {'name': 'TextPayMe'},\n",
       " {'name': 'BillMonk'},\n",
       " {'name': 'PayPal'},\n",
       " {'name': 'The Walt Disney Company'},\n",
       " {'name': 'WebbAlert'},\n",
       " {'name': 'Rocketboom'},\n",
       " {'name': 'WallStrip'},\n",
       " {'name': 'IAC'},\n",
       " {'name': 'Techstars'},\n",
       " {'name': 'Nirvanix'},\n",
       " {'name': 'Mokitown'},\n",
       " {'name': 'Neopets'},\n",
       " {'name': 'KnockaTV'},\n",
       " {'name': 'Revver'},\n",
       " {'name': 'Metacafe'},\n",
       " {'name': 'MindTouch'},\n",
       " {'name': 'ChaCha'},\n",
       " {'name': 'Sportingo'},\n",
       " {'name': 'Akamai Technologies'},\n",
       " {'name': 'Splashup'},\n",
       " {'name': 'Curverider'},\n",
       " {'name': 'MobiTV'},\n",
       " {'name': 'SomethingSimpler'},\n",
       " {'name': 'Six Apart'},\n",
       " {'name': 'BitTorrent'},\n",
       " {'name': 'SuicideGirls'},\n",
       " {'name': 'Goowy'},\n",
       " {'name': 'MySpace'},\n",
       " {'name': 'InviteShare'},\n",
       " {'name': 'Docstoc'},\n",
       " {'name': 'Mevio'},\n",
       " {'name': 'BitPass'},\n",
       " {'name': 'eHarmony'},\n",
       " {'name': 'TubeMogul'},\n",
       " {'name': 'dpreview'},\n",
       " {'name': 'Lastminute'},\n",
       " {'name': 'Multiply'},\n",
       " {'name': 'OpenTable'},\n",
       " {'name': 'MocoSpace'},\n",
       " {'name': 'YouBeQB'},\n",
       " {'name': 'ChannelAdvisor'},\n",
       " {'name': 'Quattro Wireless'},\n",
       " {'name': 'Thumbplay'},\n",
       " {'name': 'Wonga'},\n",
       " {'name': 'Tutor'},\n",
       " {'name': 'SayNow'},\n",
       " {'name': 'CircleUp'},\n",
       " {'name': 'ContactOffice'},\n",
       " {'name': 'Yugma'},\n",
       " {'name': 'imeem'},\n",
       " {'name': 'AdMob'},\n",
       " {'name': 'Attributor'},\n",
       " {'name': 'Nemedia'},\n",
       " {'name': 'PeekYou'},\n",
       " {'name': 'ZocDoc'},\n",
       " {'name': 'WooMe'},\n",
       " {'name': 'Viewdle'},\n",
       " {'name': 'TripIt'},\n",
       " {'name': 'PubMatic'},\n",
       " {'name': 'app2you'},\n",
       " {'name': 'Orgoo'},\n",
       " {'name': 'YourStreet'},\n",
       " {'name': 'Ceedo Technologies'},\n",
       " {'name': 'FlowPlay'},\n",
       " {'name': 'IPartee'},\n",
       " {'name': 'Feedjit'},\n",
       " {'name': 'Viewpoints'},\n",
       " {'name': 'RatePoint'},\n",
       " {'name': 'ThisNext'},\n",
       " {'name': 'Clickable'},\n",
       " {'name': 'mig33'},\n",
       " {'name': 'Animoto'},\n",
       " {'name': 'GamerDNA'},\n",
       " {'name': 'Pakt'},\n",
       " {'name': 'mEgo'},\n",
       " {'name': 'Realius'},\n",
       " {'name': 'Metaplace'},\n",
       " {'name': 'CafeScribe'},\n",
       " {'name': 'Syntraxis'},\n",
       " {'name': 'BrightQube'},\n",
       " {'name': 'BuzzDash'},\n",
       " {'name': 'BigSwerve'},\n",
       " {'name': 'Styky'},\n",
       " {'name': 'Goojet'},\n",
       " {'name': 'GroupSwim'},\n",
       " {'name': 'Diigo'},\n",
       " {'name': 'EkkoTV'},\n",
       " {'name': 'Kaltura'},\n",
       " {'name': 'Notemarks'},\n",
       " {'name': 'mPortico'},\n",
       " {'name': 'itsmylife'},\n",
       " {'name': 'Mobivox'},\n",
       " {'name': 'eGenerations'},\n",
       " {'name': 'FriendFeed'},\n",
       " {'name': 'Youlicit'},\n",
       " {'name': 'Babylon'},\n",
       " {'name': 'FlexiScale'},\n",
       " {'name': 'earthmine'},\n",
       " {'name': 'zSlide'},\n",
       " {'name': 'RecipeMatcher'},\n",
       " {'name': 'Whiskey Media'},\n",
       " {'name': 'CondoDomain'},\n",
       " {'name': 'Automattic'},\n",
       " {'name': 'uTest'},\n",
       " {'name': 'Shopatron'},\n",
       " {'name': 'EchoSign'},\n",
       " {'name': 'Buzzwire'},\n",
       " {'name': 'Crusher'},\n",
       " {'name': 'YowTRIP'},\n",
       " {'name': 'Rollbase'},\n",
       " {'name': 'XLNTads'},\n",
       " {'name': 'All-Scrap'},\n",
       " {'name': 'FeedMorf'},\n",
       " {'name': 'Moko Social Media'},\n",
       " {'name': 'blueKiwi'},\n",
       " {'name': 'Gydget'},\n",
       " {'name': 'Baynote'},\n",
       " {'name': 'Jango'},\n",
       " {'name': 'SezWho'},\n",
       " {'name': 'Qloud'},\n",
       " {'name': 'Pelago'},\n",
       " {'name': 'Upcoming'},\n",
       " {'name': 'Excite@Home'},\n",
       " {'name': 'Zilok'},\n",
       " {'name': 'Faves'},\n",
       " {'name': 'BrainKeeper'},\n",
       " {'name': 'Evi'},\n",
       " {'name': 'GotCast'},\n",
       " {'name': 'MerchantCircle'},\n",
       " {'name': 'Zmags'},\n",
       " {'name': 'Zecco'},\n",
       " {'name': 'Congoo'},\n",
       " {'name': 'Jackson Fish Market'},\n",
       " {'name': 'RealSelf'},\n",
       " {'name': 'ThriveSmart'},\n",
       " {'name': 'doof'},\n",
       " {'name': 'OurStage'},\n",
       " {'name': 'GameLayers'},\n",
       " {'name': 'LinkStorm'},\n",
       " {'name': 'Zoji'},\n",
       " {'name': 'Entrecard'},\n",
       " {'name': 'Apprema'},\n",
       " {'name': 'HelpHookup'},\n",
       " {'name': 'Skribit'},\n",
       " {'name': 'Hark'},\n",
       " {'name': 'Splunk'},\n",
       " {'name': 'Shutterfly'},\n",
       " {'name': 'Localeze'},\n",
       " {'name': 'Youku'},\n",
       " {'name': 'YouOS'},\n",
       " {'name': 'Sendori'},\n",
       " {'name': 'Adhysteria'},\n",
       " {'name': 'Songza'},\n",
       " {'name': 'CollegeFanz'},\n",
       " {'name': 'Deezer'},\n",
       " {'name': 'italki'},\n",
       " {'name': 'eyeOS'},\n",
       " {'name': 'Desktoptwo'},\n",
       " {'name': 'MyNeighborhood'},\n",
       " {'name': 'Utterz'},\n",
       " {'name': 'eventsbot'},\n",
       " {'name': 'Criticker'},\n",
       " {'name': 'Dapper'},\n",
       " {'name': 'Twipster'},\n",
       " {'name': 'Twenga'},\n",
       " {'name': 'TradeKing'},\n",
       " {'name': 'Iotum'},\n",
       " {'name': 'eBurl'},\n",
       " {'name': 'Vemo'},\n",
       " {'name': 'Smilebox'},\n",
       " {'name': 'Bahu'},\n",
       " {'name': 'Seethroo'},\n",
       " {'name': 'Summize'},\n",
       " {'name': 'HubPages'},\n",
       " {'name': 'Squidoo'},\n",
       " {'name': 'GoLark'},\n",
       " {'name': 'Chictini'},\n",
       " {'name': 'Picktastic'},\n",
       " {'name': 'PlayFirst'},\n",
       " {'name': 'Libersy'},\n",
       " {'name': 'RipCode'},\n",
       " {'name': 'Mobissimo'},\n",
       " {'name': 'Causes'},\n",
       " {'name': 'PollDaddy'},\n",
       " {'name': 'Pinger'},\n",
       " {'name': 'Driftr'},\n",
       " {'name': 'jellyfish'},\n",
       " {'name': 'ice'},\n",
       " {'name': 'Workface'},\n",
       " {'name': 'Livemocha'},\n",
       " {'name': 'fabrik'},\n",
       " {'name': 'CheerOutLoud'},\n",
       " {'name': 'DoYouBuzz'},\n",
       " {'name': 'AF83'},\n",
       " {'name': 'Zynga'},\n",
       " {'name': 'Enforta'},\n",
       " {'name': 'Smaato'},\n",
       " {'name': 'AnsMart'},\n",
       " {'name': 'Mumboe'},\n",
       " {'name': 'Badoo'},\n",
       " {'name': 'UnLtdWorld'},\n",
       " {'name': 'Scrabulous'},\n",
       " {'name': 'Pornotube'},\n",
       " {'name': 'ReimagineMemories'},\n",
       " {'name': 'XING'},\n",
       " {'name': 'HouseFront'},\n",
       " {'name': 'Bizak'},\n",
       " {'name': 'WorldTV'},\n",
       " {'name': '5pm'},\n",
       " {'name': 'Heroku'},\n",
       " {'name': 'Lookery'},\n",
       " {'name': 'comScore'},\n",
       " {'name': 'YouPorn'},\n",
       " {'name': 'TV Shack'},\n",
       " {'name': 'XLR8 Mobile'},\n",
       " {'name': 'Bigsight Media Group'},\n",
       " {'name': 'Sharetivity'},\n",
       " {'name': 'Taptu'},\n",
       " {'name': 'Deal Comet'},\n",
       " {'name': 'Web2Wave'},\n",
       " {'name': 'Maugans Corp'},\n",
       " {'name': 'BreakingPoint Systems'},\n",
       " {'name': 'Reshade'},\n",
       " {'name': 'VisualCV'},\n",
       " {'name': 'HonestMall'},\n",
       " {'name': 'FutonMedia'},\n",
       " {'name': 'ZiFiMusic'},\n",
       " {'name': 'memelabs'},\n",
       " {'name': 'PopShops'},\n",
       " {'name': 'MetaNotes'},\n",
       " {'name': 'MerchantOS'},\n",
       " {'name': 'eNotes'},\n",
       " {'name': 'TripnTale'},\n",
       " {'name': 'Mergelab'},\n",
       " {'name': 'Tvosz'},\n",
       " {'name': 'VentureBeat'},\n",
       " {'name': 'Weblogs'},\n",
       " {'name': 'idiomag'},\n",
       " {'name': 'mobileStorm'},\n",
       " {'name': 'TalentSpring'},\n",
       " {'name': 'Metromole'},\n",
       " {'name': 'apivision'},\n",
       " {'name': 'China-8'},\n",
       " {'name': 'Mobiance'},\n",
       " {'name': 'Brownstoner Media'},\n",
       " {'name': 'SpotXchange'},\n",
       " {'name': 'PlanJam'},\n",
       " {'name': 'Mixbook'},\n",
       " {'name': 'VisitorNetworks'},\n",
       " {'name': 'GameDuell'},\n",
       " {'name': 'Paglo'},\n",
       " {'name': 'What They Like'},\n",
       " {'name': 'Yodio'},\n",
       " {'name': 'LittleEngine'},\n",
       " {'name': 'stickK'},\n",
       " {'name': 'Cellware'},\n",
       " {'name': 'ManageMyAdvertising'},\n",
       " {'name': 'LyfeSystems'},\n",
       " {'name': 'Kaddoz'},\n",
       " {'name': 'Principal Axis'},\n",
       " {'name': 'eTeacher'},\n",
       " {'name': 'amiando'},\n",
       " {'name': 'SpinSnap'},\n",
       " {'name': 'Qype'},\n",
       " {'name': 'GumGum'},\n",
       " {'name': 'Pivotal Labs'},\n",
       " {'name': 'MyCityFaces'},\n",
       " {'name': 'Qifang'},\n",
       " {'name': 'PicScout'},\n",
       " {'name': 'UnsubCentral'},\n",
       " {'name': 'openPeople'},\n",
       " {'name': 'ChoiceStream'},\n",
       " {'name': 'LibraryThing'},\n",
       " {'name': 'MomentVille'},\n",
       " {'name': 'TheLadders'},\n",
       " {'name': 'QponDirect'},\n",
       " {'name': 'Fat Goose'},\n",
       " {'name': 'DeaLoco'},\n",
       " {'name': 'LexDex'},\n",
       " {'name': 'Subimage'},\n",
       " {'name': 'ShareMethods'},\n",
       " {'name': 'Danger'},\n",
       " {'name': 'Devunity'},\n",
       " {'name': 'AskPoodle'},\n",
       " {'name': 'Scary Ideas'},\n",
       " {'name': 'Fortify Software'},\n",
       " {'name': 'Planbus'},\n",
       " {'name': 'QuickInsert'},\n",
       " {'name': 'FaceTec'},\n",
       " {'name': 'Sitemasher'},\n",
       " {'name': 'Ownersite Technologies'},\n",
       " {'name': 'fotopedia'},\n",
       " {'name': 'Foneshow'},\n",
       " {'name': 'cScape'},\n",
       " {'name': 'Compulsivo'},\n",
       " {'name': 'ePrep'},\n",
       " {'name': 'YouNoodle'},\n",
       " {'name': 'Los Angeles Times Media Group'},\n",
       " {'name': 'mobikade'},\n",
       " {'name': 'Echobit'},\n",
       " {'name': 'Pollsit'},\n",
       " {'name': 'Group2call'},\n",
       " {'name': 'GenieTown'},\n",
       " {'name': 'Paprika Lab'},\n",
       " {'name': 'RiffTrax'},\n",
       " {'name': 'Unype'},\n",
       " {'name': 'World Reviewer'},\n",
       " {'name': 'GeniusRocket'},\n",
       " {'name': 'BBC'},\n",
       " {'name': 'MyApartmentMap'},\n",
       " {'name': '8coupons'},\n",
       " {'name': 'Cloudo'},\n",
       " {'name': 'JuicyCampus'},\n",
       " {'name': 'Ad Infuse'},\n",
       " {'name': 'Inform Technologies'},\n",
       " {'name': 'EVO Media Group'},\n",
       " {'name': 'Starfish Community Group'},\n",
       " {'name': 'Blog Talk Radio'},\n",
       " {'name': 'HealtheHuman'},\n",
       " {'name': 'HealthLat'},\n",
       " {'name': 'Tiny Pictures'},\n",
       " {'name': 'Zorpia'},\n",
       " {'name': 'Popularo'},\n",
       " {'name': 'Animax Entertainment'},\n",
       " {'name': 'EMOB'},\n",
       " {'name': 'FanDuel'},\n",
       " {'name': 'Evri'},\n",
       " {'name': 'Parametric Ventures'},\n",
       " {'name': 'Gamers Media'},\n",
       " {'name': 'FixSor'},\n",
       " {'name': 'YaData'},\n",
       " {'name': 'NAVIS'},\n",
       " {'name': 'MoFuse'},\n",
       " {'name': 'TolMol'},\n",
       " {'name': 'Quintura'},\n",
       " {'name': 'Qiro'},\n",
       " {'name': 'PayLoadz'},\n",
       " {'name': 'Love2Trade'},\n",
       " {'name': 'QVC'},\n",
       " {'name': 'Sporting Connections'},\n",
       " {'name': 'Volagratis'},\n",
       " {'name': 'MercadoFechado'},\n",
       " {'name': 'homSALE'},\n",
       " {'name': 'Myrimis'},\n",
       " {'name': 'Webtronic'},\n",
       " {'name': 'Aullo'},\n",
       " {'name': 'Folkstr'},\n",
       " {'name': \"IT'S ART\"},\n",
       " {'name': 'LouderVoice'},\n",
       " {'name': 'EASEUS'},\n",
       " {'name': 'I-stats'},\n",
       " {'name': 'Sportgenic'},\n",
       " {'name': 'Innofidei'},\n",
       " {'name': 'Printfection'},\n",
       " {'name': 'RingBranch'},\n",
       " {'name': 'Rivals4Ever'},\n",
       " {'name': 'OpenDNS'},\n",
       " {'name': 'VZnet Netzwerke'},\n",
       " {'name': 'Asterpix'},\n",
       " {'name': 'Astrails'},\n",
       " {'name': 'LiveHit'},\n",
       " {'name': 'WebRidesTV'},\n",
       " {'name': 'Innovid'},\n",
       " {'name': 'Aidmas Corporation'},\n",
       " {'name': 'Kulabyte'},\n",
       " {'name': 'Rutube'},\n",
       " {'name': 'Feng-GUI'},\n",
       " {'name': 'Akoha'},\n",
       " {'name': 'doXtop'},\n",
       " {'name': 'PacketFront'},\n",
       " {'name': 'JigJak'},\n",
       " {'name': 'Litmos'},\n",
       " {'name': 'Ad Chap'},\n",
       " {'name': 'The FeedRoom'},\n",
       " {'name': 'SportsUltra'},\n",
       " {'name': 'Mobenga'},\n",
       " {'name': 'Janrain'},\n",
       " {'name': 'SearchMe'},\n",
       " {'name': 'Tokiva Technologies'},\n",
       " {'name': 'Global Roaming'},\n",
       " {'name': 'Panizon'},\n",
       " {'name': 'Revolution Health'},\n",
       " {'name': 'Zooors Interactive Yachting Society'},\n",
       " {'name': 'Sazze'},\n",
       " {'name': 'Norg Media'},\n",
       " {'name': 'Eyealike'},\n",
       " {'name': 'Skydeck'},\n",
       " {'name': 'JobThread'},\n",
       " {'name': 'Snaptalent'},\n",
       " {'name': 'Twhirl'},\n",
       " {'name': 'TeamWork Live'},\n",
       " {'name': 'Daikana'},\n",
       " {'name': 'Weplug'},\n",
       " {'name': 'Arclight Media Technology'},\n",
       " {'name': '500 Hats'},\n",
       " {'name': 'Authenticlick'},\n",
       " {'name': 'Playfish'},\n",
       " {'name': 'CitySquares'},\n",
       " {'name': 'Qlubb'},\n",
       " {'name': 'Coordinatr'},\n",
       " {'name': 'Snipshot'},\n",
       " {'name': 'MyDogSpace'},\n",
       " {'name': 'The Friday Pint Ltd'},\n",
       " {'name': 'Akampus'},\n",
       " {'name': 'Toufee'},\n",
       " {'name': 'MyTrade'},\n",
       " {'name': 'Taaz'},\n",
       " {'name': 'BMC Software'},\n",
       " {'name': 'SIMchronise'},\n",
       " {'name': 'FASTALLEY'},\n",
       " {'name': 'Eatup Drinkup'},\n",
       " {'name': 'Moblica'},\n",
       " {'name': 'Zebtab'},\n",
       " {'name': 'Music Arsenal'},\n",
       " {'name': 'XIHA'},\n",
       " {'name': 'Shvoong'},\n",
       " {'name': 'tunesBag'},\n",
       " {'name': 'BroadSoft'},\n",
       " {'name': 'Public Domain Archive and Reprints Service'},\n",
       " {'name': 'FuelMyBlog'},\n",
       " {'name': 'AnchorFree'},\n",
       " {'name': 'Sonecast'},\n",
       " {'name': 'Infibeam'},\n",
       " {'name': 'OrangeSoda'},\n",
       " {'name': 'CJReport'},\n",
       " {'name': 'DevHD'},\n",
       " {'name': 'Devolia'},\n",
       " {'name': 'Raw Signal'},\n",
       " {'name': 'Infovark'},\n",
       " {'name': 'RelevantMind'},\n",
       " {'name': 'GotVoice'},\n",
       " {'name': 'BlogFlux'},\n",
       " {'name': 'Notches'},\n",
       " {'name': 'DeliciousSafari'},\n",
       " {'name': 'iHound Software'},\n",
       " {'name': 'babbel'},\n",
       " {'name': 'Domegos'},\n",
       " {'name': 'SeatNation'},\n",
       " {'name': 'Zigtag'},\n",
       " {'name': 'Clearwell Systems'},\n",
       " {'name': 'AsesorSeguros'},\n",
       " {'name': 'BlueCat Networks'},\n",
       " {'name': 'TriValleyBook'},\n",
       " {'name': 'The Echo Nest'},\n",
       " {'name': 'Zemanta'},\n",
       " {'name': 'Mindpark'},\n",
       " {'name': 'Bango'},\n",
       " {'name': '31000emploi'},\n",
       " {'name': 'ki work'},\n",
       " {'name': 'Skycore'},\n",
       " {'name': 'Fresho'},\n",
       " {'name': 'Get the Point'},\n",
       " {'name': 'Berkeley Design Automation'},\n",
       " {'name': 'Toluu'},\n",
       " {'name': 'Achievers Point Knowledge Systems'},\n",
       " {'name': 'NoseRub'},\n",
       " {'name': 'Vello'},\n",
       " {'name': '3Tera'},\n",
       " {'name': 'Edmodo'},\n",
       " {'name': 'Noovo'},\n",
       " {'name': 'ZEDO'},\n",
       " {'name': 'Spongecell'},\n",
       " {'name': 'Adlucent'},\n",
       " {'name': 'Metaversum'},\n",
       " {'name': 'TheNextBigWriter'},\n",
       " {'name': 'RiDE Group'},\n",
       " {'name': 'CarDomain Network'},\n",
       " {'name': 'TagLauncher'},\n",
       " {'name': 'Kublax'},\n",
       " {'name': 'Nota'},\n",
       " {'name': 'MaybeMike'},\n",
       " {'name': '51 Give'},\n",
       " {'name': 'HRSnap! Corporation'},\n",
       " {'name': 'Babuki'},\n",
       " {'name': 'Myplaylist'},\n",
       " {'name': 'MyWellnessSpace'},\n",
       " {'name': 'TripSay'},\n",
       " {'name': 'GroupSpaces'},\n",
       " {'name': 'South Park Studios'},\n",
       " {'name': 'Zong'},\n",
       " {'name': 'HelpMeSue'},\n",
       " {'name': 'Odeo'},\n",
       " {'name': 'Simkl'},\n",
       " {'name': 'Pure Digital Technologies'},\n",
       " {'name': 'Axosoft'},\n",
       " {'name': 'Trellon'},\n",
       " {'name': 'Coull'},\n",
       " {'name': 'andUNITE'},\n",
       " {'name': 'Huddle'},\n",
       " {'name': 'Trampoline Systems'},\n",
       " {'name': 'Omnistar Interactive'},\n",
       " {'name': 'SiBEAM'},\n",
       " {'name': '83 Degrees'},\n",
       " {'name': 'Baidu'},\n",
       " {'name': 'Vivity Labs'},\n",
       " {'name': 'Open Source Living'},\n",
       " {'name': 'Support Intelligence'},\n",
       " {'name': 'Boxbe'},\n",
       " {'name': 'Honeypot Marketing'},\n",
       " {'name': 'Octeth'},\n",
       " {'name': 'SYIANT technologies'},\n",
       " {'name': 'Artabase'},\n",
       " {'name': 'Acme Mobile'},\n",
       " {'name': 'Fourth Media Technologies'},\n",
       " {'name': 'GreatDomainRace'},\n",
       " {'name': 'Labmeeting'},\n",
       " {'name': 'Shopflick'},\n",
       " {'name': 'Trovit'},\n",
       " {'name': 'Reach Machines'},\n",
       " {'name': 'Berro'},\n",
       " {'name': 'iKnowlej'},\n",
       " {'name': 'LocalWineEvents'},\n",
       " {'name': 'Palamida'},\n",
       " {'name': 'British Telecom'},\n",
       " {'name': 'myTino'},\n",
       " {'name': 'CVN Networks'},\n",
       " {'name': 'ProcServe'},\n",
       " {'name': 'OnOneMap'},\n",
       " {'name': 'Pipl'},\n",
       " {'name': 'walabok'},\n",
       " {'name': 'Plexonic'},\n",
       " {'name': 'MEDgle'},\n",
       " {'name': 'Picoy'},\n",
       " {'name': 'The Beer Mapping Project'},\n",
       " {'name': 'Iminent'},\n",
       " {'name': 'BMAT'},\n",
       " {'name': 'SOSIUS'},\n",
       " {'name': 'Mercury Intermedia'},\n",
       " {'name': 'DataPortability'},\n",
       " {'name': 'PhoneFavs'},\n",
       " {'name': 'ImageShack'},\n",
       " {'name': 'Beep Interactive'},\n",
       " {'name': 'PluggedIn'},\n",
       " {'name': 'AdShuffle'},\n",
       " {'name': 'Red Oxygen'},\n",
       " {'name': 'Pixifi'},\n",
       " {'name': 'Whois'},\n",
       " {'name': 'Soocial'},\n",
       " {'name': 'SocialSplash'},\n",
       " {'name': 'Medioh!'},\n",
       " {'name': 'PetBrags'},\n",
       " {'name': 'Beer Universe'},\n",
       " {'name': 'SaneBull'},\n",
       " {'name': 'IdiotsTrafficSchool'},\n",
       " {'name': 'ReVou'},\n",
       " {'name': 'Drop Magazine'},\n",
       " {'name': 'Dial Plus'},\n",
       " {'name': 'Muxlim'},\n",
       " {'name': 'ForteMall'},\n",
       " {'name': 'ChickAdvisor'},\n",
       " {'name': 'Wayfair'},\n",
       " {'name': '3tailer'},\n",
       " {'name': 'StoryMash'},\n",
       " {'name': 'venyoo'},\n",
       " {'name': 'Fog Creek Software'},\n",
       " {'name': 'Vegtaste'},\n",
       " {'name': 'BuildDirect'},\n",
       " {'name': 'Exago'},\n",
       " {'name': 'Omnivents'},\n",
       " {'name': 'Interarbor Solutions'},\n",
       " {'name': 'Bizooki'},\n",
       " {'name': 'Superblock'},\n",
       " {'name': 'Lemonade'},\n",
       " {'name': 'Aardvark'},\n",
       " {'name': 'Piwik'},\n",
       " {'name': 'SuperVirals'},\n",
       " {'name': 'Flaptor'},\n",
       " {'name': 'iSquare'},\n",
       " {'name': 'SQLstream'},\n",
       " {'name': 'PurpleTrail'},\n",
       " {'name': 'Viewzi'},\n",
       " {'name': 'Voices'},\n",
       " {'name': 'Triggit'},\n",
       " {'name': 'PIER Systems'},\n",
       " {'name': 'YouBeats'},\n",
       " {'name': 'RateBuilding'},\n",
       " {'name': 'Savvy Circle'},\n",
       " {'name': 'Presdo'},\n",
       " {'name': 'Android'},\n",
       " {'name': 'FreedomSpeaks'},\n",
       " {'name': 'Zigron'},\n",
       " {'name': 'Wordie'},\n",
       " {'name': 'TuneWiki'},\n",
       " {'name': 'Amanager'},\n",
       " {'name': 'Estately'},\n",
       " {'name': 'Springleap'},\n",
       " {'name': 'Youcode'},\n",
       " {'name': 'URockHard'},\n",
       " {'name': 'Adify'},\n",
       " {'name': 'Lingoloopy'},\n",
       " {'name': 'Kabam'},\n",
       " {'name': 'Profy'},\n",
       " {'name': 'TraceWorks'},\n",
       " {'name': 'mappery'},\n",
       " {'name': 'UNYK'},\n",
       " {'name': 'BioWizard'},\n",
       " {'name': 'Syncplicity'},\n",
       " {'name': 'AVIS eSolutions'},\n",
       " {'name': 'Streamzy'},\n",
       " {'name': 'Luminotes'},\n",
       " {'name': 'Voices in Business'},\n",
       " {'name': 'Phonewire'},\n",
       " {'name': 'Diabetic Days'},\n",
       " {'name': 'Gimeney'},\n",
       " {'name': 'HyperCalc'},\n",
       " {'name': 'The Ad Database'},\n",
       " {'name': 'Danogo'},\n",
       " {'name': 'Opsware'},\n",
       " {'name': 'Empire Group'},\n",
       " {'name': 'Memopal'},\n",
       " {'name': 'svcmart'},\n",
       " {'name': 'FantasyBook'},\n",
       " {'name': 'Conenza'},\n",
       " {'name': 'Neutralize'},\n",
       " {'name': 'Phi Media'},\n",
       " {'name': 'ChatAny'},\n",
       " {'name': 'Traffic Broker'},\n",
       " {'name': 'Talend'},\n",
       " {'name': 'ESPN'},\n",
       " {'name': 'Telenav'},\n",
       " {'name': 'FirstString'},\n",
       " {'name': 'twidox'},\n",
       " {'name': 'allyve'},\n",
       " {'name': 'Your Survival'},\n",
       " {'name': 'locr'},\n",
       " {'name': 'RouteNote'},\n",
       " {'name': 'The Motley Fool'},\n",
       " {'name': 'WebVet'},\n",
       " {'name': 'RupeeTimes'},\n",
       " {'name': 'SEO Workers'},\n",
       " {'name': 'CTAB Mortgage Desk'},\n",
       " {'name': 'Picitup'},\n",
       " {'name': 'Facilitas'},\n",
       " {'name': 'KangarooBox'},\n",
       " {'name': 'TuneUp'},\n",
       " {'name': 'Textensor'},\n",
       " {'name': 'Squace'},\n",
       " {'name': 'rVita'},\n",
       " {'name': 'OpenSocial Foundation'},\n",
       " {'name': 'findingDulcinea'},\n",
       " {'name': 'DealQUE'},\n",
       " {'name': 'Hypertag'},\n",
       " {'name': 'Dezide'},\n",
       " {'name': 'Hobnox'},\n",
       " {'name': 'Cognition Technologies'},\n",
       " {'name': 'Cellity'},\n",
       " {'name': 'OleOle'},\n",
       " {'name': 'TerraPass'},\n",
       " {'name': 'BusinessCard2'},\n",
       " {'name': 'Sometrics'},\n",
       " {'name': 'U Sphere'},\n",
       " {'name': 'deviantART'},\n",
       " {'name': 'mpw Technologies'},\n",
       " {'name': 'JustMeans'},\n",
       " {'name': 'The Travel Editor'},\n",
       " {'name': 'WrapMail'},\n",
       " {'name': 'mywaves'},\n",
       " {'name': 'NextBio'},\n",
       " {'name': 'Zoosk'},\n",
       " {'name': 'Pixaria'},\n",
       " {'name': 'Bluetise'},\n",
       " {'name': 'WujWuj'},\n",
       " {'name': 'CityHubb'},\n",
       " {'name': 'Elite Renting'},\n",
       " {'name': 'Viridus'},\n",
       " {'name': 'adflyer'},\n",
       " {'name': 'ITSportsNet'},\n",
       " {'name': 'GameFly'},\n",
       " {'name': 'Flixya'},\n",
       " {'name': 'Aster Data Systems'},\n",
       " {'name': 'OmniTI'},\n",
       " {'name': 'Global Business Development Services'},\n",
       " {'name': 'Roku'},\n",
       " {'name': 'Yandex'},\n",
       " {'name': 'Batipi'},\n",
       " {'name': 'Sonico'},\n",
       " {'name': 'SmallWorlds'},\n",
       " {'name': 'Stagevu'},\n",
       " {'name': 'Jitterbit'},\n",
       " {'name': 'Symora Networks'},\n",
       " {'name': 'Locify'},\n",
       " {'name': 'RabbleDabble'},\n",
       " {'name': 'GlobeShooter'},\n",
       " {'name': 'CompareNetworks'},\n",
       " {'name': 'Sxip Identity'},\n",
       " {'name': 'sph3re'},\n",
       " {'name': 'Dotmenu'},\n",
       " {'name': 'Open Television Network'},\n",
       " {'name': 'Votigo'},\n",
       " {'name': 'C4Media'},\n",
       " {'name': 'iWin'},\n",
       " {'name': 'Savvy Cellar Wines'},\n",
       " {'name': 'urlBorg'},\n",
       " {'name': 'InterGraphicDESIGNS'},\n",
       " {'name': 'Pangaeaa Enterprises'},\n",
       " {'name': 'PurePlay'},\n",
       " {'name': 'Aruspex'},\n",
       " {'name': 'Oxynade'},\n",
       " {'name': 'Jowba'},\n",
       " {'name': 'Southern Growth Studio'},\n",
       " {'name': 'Propertyqube'},\n",
       " {'name': 'Agent Shield Technologies'},\n",
       " {'name': 'Enterprise Concept'},\n",
       " {'name': 'Handmark'},\n",
       " {'name': 'Market Sentinel'},\n",
       " {'name': 'Fabric Interactive'},\n",
       " {'name': 'Aedgency'},\n",
       " {'name': 'UNIFLIP'},\n",
       " {'name': 'FliteHaus Creative Agency'},\n",
       " {'name': 'Jambool'},\n",
       " {'name': 'FanDriveMedia'},\n",
       " {'name': 'Versaly Entertainment'},\n",
       " {'name': 'MicroGiving'},\n",
       " {'name': 'SRI International'},\n",
       " {'name': 'Ipoki'},\n",
       " {'name': 'Camp BizSmart'},\n",
       " {'name': 'Niwango'},\n",
       " {'name': 'Quividi'},\n",
       " {'name': 'OneScreen'},\n",
       " {'name': 'ArtistData'},\n",
       " {'name': 'PageUp People'},\n",
       " {'name': 'Cypal Solutions'},\n",
       " {'name': 'Jigsaw'},\n",
       " {'name': 'NetProspex'},\n",
       " {'name': 'DriverSide'},\n",
       " {'name': 'Inertia Beverage Group'},\n",
       " {'name': 'TuneCore'},\n",
       " {'name': 'Open-E'},\n",
       " {'name': 'WSO2'},\n",
       " {'name': 'Crowd Science'},\n",
       " {'name': 'SightWorks'},\n",
       " {'name': 'Dizzywood'},\n",
       " {'name': 'DotSpots'},\n",
       " {'name': 'Limbo'},\n",
       " {'name': 'CohesiveFT'},\n",
       " {'name': 'Coolboysoft'},\n",
       " {'name': 'Macronimous Web Solutions'},\n",
       " {'name': 'Majides'},\n",
       " {'name': 'StreamFocus'},\n",
       " {'name': 'Prospection'},\n",
       " {'name': 'Intelliworks'},\n",
       " {'name': 'Jungle Jam Tv'},\n",
       " {'name': 'iePlexus'},\n",
       " {'name': 'SpaBoom'},\n",
       " {'name': 'Muecs'},\n",
       " {'name': 'Capterra'},\n",
       " {'name': 'Openfilm'},\n",
       " {'name': 'uCubd'},\n",
       " {'name': 'MyGreat'},\n",
       " {'name': 'SquareClock'},\n",
       " {'name': 'MyPronostic'},\n",
       " {'name': 'vLex'},\n",
       " {'name': 'ScreenScape Networks'},\n",
       " {'name': 'Practice Fusion'},\n",
       " {'name': 'Jobirn'},\n",
       " {'name': 'Tipo'},\n",
       " {'name': 'Pingar'},\n",
       " {'name': 'RRD USA'},\n",
       " {'name': 'Lingro'},\n",
       " {'name': 'mokono'},\n",
       " {'name': '10to1'},\n",
       " {'name': 'Just Landed'},\n",
       " {'name': 'International Liars Poker Association'},\n",
       " {'name': 'YouBundle'},\n",
       " {'name': 'Carfeine'},\n",
       " {'name': 'Changents'},\n",
       " {'name': 'zintin'},\n",
       " {'name': 'Ziippi'},\n",
       " {'name': 'YOLLEGE'},\n",
       " {'name': 'WatchDoit'},\n",
       " {'name': 'FPGA Central'},\n",
       " {'name': 'Leaders2020'},\n",
       " {'name': 'SocialBang'},\n",
       " {'name': 'Syntac Ventures'},\n",
       " {'name': 'ITarchitectJobs'},\n",
       " {'name': 'Wizario'},\n",
       " {'name': 'ECO-SAFE'},\n",
       " {'name': 'Optaros'},\n",
       " {'name': 'RootZoo'},\n",
       " {'name': 'BootB'},\n",
       " {'name': 'Vivaty'},\n",
       " {'name': 'TradingUp Online'},\n",
       " {'name': 'TeamStreamz'},\n",
       " {'name': 'iMediaBlitz'},\n",
       " {'name': 'Bankaholic'},\n",
       " {'name': 'Wink Streaming'},\n",
       " {'name': \"Cupid's Lab\"},\n",
       " {'name': 'Sketchin'},\n",
       " {'name': 'Loud3r'},\n",
       " {'name': 'Xcerion'},\n",
       " {'name': 'Fashionspace'},\n",
       " {'name': 'ZapTXT'},\n",
       " {'name': 'MyTrainer'},\n",
       " {'name': 'NewsOrViews'},\n",
       " {'name': 'IntroNiche'},\n",
       " {'name': 'CityLocal Belfast'},\n",
       " {'name': 'Division 1 Movers'},\n",
       " {'name': 'WideOrbit'},\n",
       " {'name': 'Celsias'},\n",
       " {'name': 'fundfindr'},\n",
       " {'name': 'ICANN'},\n",
       " {'name': 'Bevy'},\n",
       " {'name': 'LoudClick'},\n",
       " {'name': 'Roll A Name'},\n",
       " {'name': 'BTRCL'},\n",
       " {'name': 'fsboTheDistrict'},\n",
       " {'name': 'Idea Shower'},\n",
       " {'name': 'BuiltWith'},\n",
       " {'name': 'HIGH-SPEED SOLUTIONS'},\n",
       " {'name': 'Are You Watching This?!'},\n",
       " {'name': 'CrestaTech'},\n",
       " {'name': 'Guruji'},\n",
       " {'name': 'ORELIA'},\n",
       " {'name': 'jorjevio SEO'},\n",
       " {'name': 'Inuda Innovations'},\n",
       " {'name': 'Razoo'},\n",
       " {'name': 'Remember The Milk'},\n",
       " {'name': 'RIM Systems'},\n",
       " {'name': 'BountyJobs'},\n",
       " {'name': 'GSA Technology Council'},\n",
       " {'name': 'Keibi Technologies'},\n",
       " {'name': 'Infinimedia'},\n",
       " {'name': 'Farallon Geographics'},\n",
       " {'name': 'RoboDynamics'},\n",
       " {'name': 'VBS TV'},\n",
       " {'name': 'EzineArticles'},\n",
       " {'name': 'Imagekind'},\n",
       " {'name': 'Nulaz'},\n",
       " {'name': 'Rui Peixeiro'},\n",
       " {'name': 'Overstream'},\n",
       " {'name': 'Acme Articles'},\n",
       " {'name': 'Yovia'},\n",
       " {'name': 'Info-Tech Assist'},\n",
       " {'name': 'Pixelmatic'},\n",
       " {'name': 'Tangivel'},\n",
       " {'name': 'Gammoth'},\n",
       " {'name': 'crocoo'},\n",
       " {'name': 'Slife Labs'},\n",
       " {'name': 'Needish'},\n",
       " {'name': 'Tasty Planner'},\n",
       " {'name': 'SiSense'},\n",
       " {'name': 'Infegy'},\n",
       " {'name': 'KelBillet'},\n",
       " {'name': 'Alcance Media Group'},\n",
       " {'name': 'Audible'},\n",
       " {'name': 'Site Web Builder'},\n",
       " {'name': 'Tatango'},\n",
       " {'name': 'Gislen Software'},\n",
       " {'name': 'Cleartrip'},\n",
       " {'name': 'Instinctiv'},\n",
       " {'name': 'Mezmeriz'},\n",
       " {'name': 'Fast Edition'},\n",
       " {'name': 'Ounce Labs'},\n",
       " {'name': 'Zigabid'},\n",
       " {'name': 'InThrMa'},\n",
       " {'name': 'Jobitorial'},\n",
       " {'name': 'DailyCaption'},\n",
       " {'name': 'Myngle'},\n",
       " {'name': 'Yuntaa'},\n",
       " {'name': 'adicate timeads'},\n",
       " {'name': 'ipsojobs'},\n",
       " {'name': 'e-contratos'},\n",
       " {'name': 'ConceptShare'},\n",
       " {'name': 'PUDGIN'},\n",
       " {'name': 'Solaiemes'},\n",
       " {'name': 'Wacanai'},\n",
       " {'name': 'Moneyspyder'},\n",
       " {'name': 'Partnerbyte'},\n",
       " {'name': 'plista'},\n",
       " {'name': 'LifePics'},\n",
       " {'name': 'Raytheon'},\n",
       " {'name': 'Pluribo'},\n",
       " {'name': 'Mashware'},\n",
       " {'name': '20DC'},\n",
       " {'name': 'DesignBay'},\n",
       " {'name': 'Newsroom Director'},\n",
       " {'name': 'MyTickr'},\n",
       " {'name': 'Zyked'},\n",
       " {'name': 'OutWit Technologies'},\n",
       " {'name': 'TweetDeck'},\n",
       " {'name': 'RCRD LBL'},\n",
       " {'name': 'JAD Tech Consulting'},\n",
       " {'name': 'Spill'},\n",
       " {'name': 'Troolley'},\n",
       " {'name': 'MEDDIA'},\n",
       " {'name': 'Transinsight'},\n",
       " {'name': 'Zipipop'},\n",
       " {'name': 'Regator'},\n",
       " {'name': 'Gig Lovers'},\n",
       " {'name': 'BrightMix'},\n",
       " {'name': 'InHopeOfLove'},\n",
       " {'name': 'Signal'},\n",
       " {'name': 'amplusnet'},\n",
       " {'name': 'ecreative'},\n",
       " {'name': 'VvCompHelpvV'},\n",
       " {'name': 'Comtech Systems'},\n",
       " {'name': 'inFlow Inventory Software'},\n",
       " {'name': 'RunToShop'},\n",
       " {'name': 'MICROTRONICS'},\n",
       " {'name': 'Paragent'},\n",
       " {'name': 'Stage Two Consulting'},\n",
       " {'name': 'Mixi'},\n",
       " {'name': 'TinyMassive'},\n",
       " {'name': 'Urgent Career'},\n",
       " {'name': 'Premier Staffing'},\n",
       " {'name': 'Refulgence Technostream'},\n",
       " {'name': 'SmallWorldTickets'},\n",
       " {'name': 'GCHQ'},\n",
       " {'name': 'Arkiva'},\n",
       " {'name': 'Goodlife Media'},\n",
       " {'name': 'The Washington Post Company'},\n",
       " {'name': 'linguaseek'},\n",
       " {'name': 'SavvyAuntie'},\n",
       " {'name': 'KIPL'},\n",
       " {'name': 'CakeMail'},\n",
       " {'name': 'LingusTV'},\n",
       " {'name': 'AccountMaven'},\n",
       " {'name': 'Chapatiz'},\n",
       " {'name': 'YOOWALK'},\n",
       " {'name': 'Data Domain'}]"
      ]
     },
     "execution_count": 105,
     "metadata": {},
     "output_type": "execute_result"
    }
   ],
   "source": [
    "list(c.find(filtro, proj).limit(1000))"
   ]
  },
  {
   "cell_type": "markdown",
   "metadata": {},
   "source": [
    "### 12. All the companies founded before 2000 that have an acquisition amount of more than 10.000.00"
   ]
  },
  {
   "cell_type": "code",
   "execution_count": 106,
   "metadata": {},
   "outputs": [],
   "source": [
    "# Your Code\n",
    "proj = {\"_id\": 0, \"name\": 1}\n",
    "filtro = {\"$and\": [{\"founded_year\": {\"$lt\": 2000}},{\"acquisition.price_amount\": {\"$gt\":10000000}}]}"
   ]
  },
  {
   "cell_type": "code",
   "execution_count": 108,
   "metadata": {},
   "outputs": [
    {
     "data": {
      "text/plain": [
       "[{'name': 'Postini'},\n",
       " {'name': 'SideStep'},\n",
       " {'name': 'Recipezaar'},\n",
       " {'name': 'PayPal'},\n",
       " {'name': 'Snapfish'}]"
      ]
     },
     "execution_count": 108,
     "metadata": {},
     "output_type": "execute_result"
    }
   ],
   "source": [
    "list(c.find(filtro, proj).limit(5))"
   ]
  },
  {
   "cell_type": "markdown",
   "metadata": {},
   "source": [
    "### 13. All the companies that have been acquired after 2010, order by the acquisition amount, and retrieve only their `name` and `acquisition` field."
   ]
  },
  {
   "cell_type": "code",
   "execution_count": 110,
   "metadata": {},
   "outputs": [],
   "source": [
    "# Your Code\n",
    "proj = {\"_id\": 0, \"name\": 1, \"acquisition\": 1}\n",
    "filtro = {\"acquisition.acquired_year\": {\"$gt\":2010}}"
   ]
  },
  {
   "cell_type": "code",
   "execution_count": 112,
   "metadata": {},
   "outputs": [
    {
     "data": {
      "text/plain": [
       "[{'name': 'T-Mobile',\n",
       "  'acquisition': {'price_amount': 39000000000,\n",
       "   'price_currency_code': 'USD',\n",
       "   'term_code': None,\n",
       "   'source_url': 'http://techcrunch.com/2011/03/20/in-the-race-for-more-spectrum-att-is-acquiring-t-mobile-for-39-billion/',\n",
       "   'source_description': 'In The Race For More Spectrum, AT&T Is Acquiring T-Mobile For $39 Billion',\n",
       "   'acquired_year': 2011,\n",
       "   'acquired_month': 3,\n",
       "   'acquired_day': 20,\n",
       "   'acquiring_company': {'name': 'AT&T', 'permalink': 'at-t'}}},\n",
       " {'name': 'Goodrich Corporation',\n",
       "  'acquisition': {'price_amount': 18400000000,\n",
       "   'price_currency_code': 'USD',\n",
       "   'term_code': None,\n",
       "   'source_url': 'http://www.masshightech.com/stories/2011/09/19/daily37-UTC-shells-out-184-billion-for-Goodrich.html',\n",
       "   'source_description': 'UTC shells out $18.4 billion for Goodrich',\n",
       "   'acquired_year': 2011,\n",
       "   'acquired_month': 9,\n",
       "   'acquired_day': 22,\n",
       "   'acquiring_company': {'name': 'United Technologies',\n",
       "    'permalink': 'united-technologies'}}},\n",
       " {'name': 'LSI',\n",
       "  'acquisition': {'price_amount': 6600000000,\n",
       "   'price_currency_code': 'USD',\n",
       "   'term_code': 'cash',\n",
       "   'source_url': 'http://dealbook.nytimes.com/2013/12/16/avago-to-buy-lsi-for-6-6-billion/?_r=0',\n",
       "   'source_description': 'Avago to Buy LSI for $6.6 Billion',\n",
       "   'acquired_year': 2013,\n",
       "   'acquired_month': 12,\n",
       "   'acquired_day': 16,\n",
       "   'acquiring_company': {'name': 'Avago Technologies',\n",
       "    'permalink': 'avago-technologies'}}},\n",
       " {'name': 'National Semiconductor',\n",
       "  'acquisition': {'price_amount': 6500000000,\n",
       "   'price_currency_code': 'USD',\n",
       "   'term_code': 'cash',\n",
       "   'source_url': 'http://www.national.com/news/item/0,1735,1522,00.html',\n",
       "   'source_description': 'TI to acquire National Semiconductor Complementary portfolios are foundation for growth',\n",
       "   'acquired_year': 2011,\n",
       "   'acquired_month': 4,\n",
       "   'acquired_day': 4,\n",
       "   'acquiring_company': {'name': 'Texas Instruments',\n",
       "    'permalink': 'texas-instruments'}}},\n",
       " {'name': 'Ariba',\n",
       "  'acquisition': {'price_amount': 4300000000,\n",
       "   'price_currency_code': 'USD',\n",
       "   'term_code': None,\n",
       "   'source_url': 'http://techcrunch.com/2012/05/22/sap-to-acquire-ariba-for-4-3-billion/',\n",
       "   'source_description': 'SAP To Acquire Ariba For $4.3 Billion',\n",
       "   'acquired_year': 2012,\n",
       "   'acquired_month': 5,\n",
       "   'acquired_day': 22,\n",
       "   'acquiring_company': {'name': 'SAP', 'permalink': 'sap'}}}]"
      ]
     },
     "execution_count": 112,
     "metadata": {},
     "output_type": "execute_result"
    }
   ],
   "source": [
    "list(c.find(filtro, proj).sort(\"acquisition.price_amount\", -1).limit(5))"
   ]
  },
  {
   "cell_type": "markdown",
   "metadata": {},
   "source": [
    "### 14. Order the companies by their `founded year`, retrieving only their `name` and `founded year`."
   ]
  },
  {
   "cell_type": "code",
   "execution_count": 118,
   "metadata": {},
   "outputs": [],
   "source": [
    "# Your Code\n",
    "proj = {\"_id\": 0, \"name\": 1, \"founded_year\": 1}\n",
    "filtro = {\"founded_year\": {\"$ne\": None}}"
   ]
  },
  {
   "cell_type": "code",
   "execution_count": 119,
   "metadata": {},
   "outputs": [
    {
     "data": {
      "text/plain": [
       "[{'name': 'Alstrasoft', 'founded_year': 1800},\n",
       " {'name': 'SmallWorlds', 'founded_year': 1800},\n",
       " {'name': 'US Army', 'founded_year': 1800},\n",
       " {'name': 'DuPont', 'founded_year': 1802},\n",
       " {'name': 'Bachmann Industries', 'founded_year': 1833}]"
      ]
     },
     "execution_count": 119,
     "metadata": {},
     "output_type": "execute_result"
    }
   ],
   "source": [
    "list(c.find(filtro, proj).sort(\"founded_year\", 1).limit(5))"
   ]
  },
  {
   "cell_type": "markdown",
   "metadata": {},
   "source": [
    "### 15. All the companies that have been founded on the first seven days of the month, including the seventh. Sort them by their `acquisition price` in a descending order. Limit the search to 10 documents."
   ]
  },
  {
   "cell_type": "code",
   "execution_count": 123,
   "metadata": {},
   "outputs": [],
   "source": [
    "# Your Code\n",
    "proj = {\"_id\": 0, \"name\": 1, \"acquisition.price_amount\": 1}\n",
    "filtro = {\"founded_day\": {\"$lte\": 7}}"
   ]
  },
  {
   "cell_type": "code",
   "execution_count": 124,
   "metadata": {},
   "outputs": [
    {
     "data": {
      "text/plain": [
       "[{'name': 'Netscape', 'acquisition': {'price_amount': 4200000000}},\n",
       " {'name': 'PayPal', 'acquisition': {'price_amount': 1500000000}},\n",
       " {'name': 'Zappos', 'acquisition': {'price_amount': 1200000000}},\n",
       " {'name': 'Alibaba', 'acquisition': {'price_amount': 1000000000}},\n",
       " {'name': 'Postini', 'acquisition': {'price_amount': 625000000}},\n",
       " {'name': 'Danger', 'acquisition': {'price_amount': 500000000}},\n",
       " {'name': 'Clearwell Systems', 'acquisition': {'price_amount': 410000000}},\n",
       " {'name': 'PrimeSense', 'acquisition': {'price_amount': 345000000}},\n",
       " {'name': 'Amobee', 'acquisition': {'price_amount': 321000000}},\n",
       " {'name': 'Vitrue', 'acquisition': {'price_amount': 300000000}}]"
      ]
     },
     "execution_count": 124,
     "metadata": {},
     "output_type": "execute_result"
    }
   ],
   "source": [
    "list(c.find(filtro, proj).sort(\"acquisition.price_amount\", -1).limit(10))"
   ]
  },
  {
   "cell_type": "markdown",
   "metadata": {},
   "source": [
    "### 16. All the companies on the 'web' `category` that have more than 4000 employees. Sort them by the amount of employees in ascending order."
   ]
  },
  {
   "cell_type": "code",
   "execution_count": 132,
   "metadata": {},
   "outputs": [],
   "source": [
    "# Your Code\n",
    "proj = {\"_id\": 0, \"name\": 1}\n",
    "filtro = {\"$and\": [{\"category_code\": \"web\"},{\"number_of_employees\": {\"$gt\":4000}}]}"
   ]
  },
  {
   "cell_type": "code",
   "execution_count": 133,
   "metadata": {},
   "outputs": [
    {
     "data": {
      "text/plain": [
       "[{'name': 'Experian'},\n",
       " {'name': 'eBay'},\n",
       " {'name': 'Yahoo!'},\n",
       " {'name': 'Los Angeles Times Media Group'},\n",
       " {'name': 'Rakuten'}]"
      ]
     },
     "execution_count": 133,
     "metadata": {},
     "output_type": "execute_result"
    }
   ],
   "source": [
    "list(c.find(filtro, proj).sort(\"number_of_employees\", -1).limit(5))"
   ]
  },
  {
   "cell_type": "markdown",
   "metadata": {},
   "source": [
    "### 17. All the companies whose acquisition amount is more than 10.000.000, and currency is 'EUR'."
   ]
  },
  {
   "cell_type": "code",
   "execution_count": 137,
   "metadata": {},
   "outputs": [],
   "source": [
    "# Your Code\n",
    "proj = {\"_id\": 0, \"name\":1}\n",
    "filtro = {\"$and\" : [{\"acquisition.price_amount\":{\"$gt\":10000000}}, {\"acquisition.price_currency_code\": \"EUR\"}]}"
   ]
  },
  {
   "cell_type": "code",
   "execution_count": 138,
   "metadata": {},
   "outputs": [
    {
     "data": {
      "text/plain": [
       "[{'name': 'ZYB'},\n",
       " {'name': 'Apertio'},\n",
       " {'name': 'Greenfield Online'},\n",
       " {'name': 'Webedia'},\n",
       " {'name': 'Wayfinder'}]"
      ]
     },
     "execution_count": 138,
     "metadata": {},
     "output_type": "execute_result"
    }
   ],
   "source": [
    "list(c.find(filtro, proj).limit(5))"
   ]
  },
  {
   "cell_type": "markdown",
   "metadata": {},
   "source": [
    "### 18. All the companies that have been acquired on the first trimester of the year. Limit the search to 10 companies, and retrieve only their `name` and `acquisition` fields."
   ]
  },
  {
   "cell_type": "code",
   "execution_count": 145,
   "metadata": {},
   "outputs": [],
   "source": [
    "# Your Code\n",
    "proj = {\"_id\": 0, \"name\": 1, \"acquisition\": 1}\n",
    "filtro = {\"acquisition.acquired_month\": {\"$lte\" : 3}}"
   ]
  },
  {
   "cell_type": "code",
   "execution_count": 146,
   "metadata": {},
   "outputs": [
    {
     "data": {
      "text/plain": [
       "[{'name': 'Kyte',\n",
       "  'acquisition': {'price_amount': None,\n",
       "   'price_currency_code': 'USD',\n",
       "   'term_code': None,\n",
       "   'source_url': 'http://techcrunch.com/2011/01/31/exclusive-kit-digital-acquires-kickapps-kewego-and-kyte-for-77-2-million/',\n",
       "   'source_description': 'KIT digital Acquires KickApps, Kewego AND Kyte For $77.2 Million',\n",
       "   'acquired_year': 2011,\n",
       "   'acquired_month': 1,\n",
       "   'acquired_day': 31,\n",
       "   'acquiring_company': {'name': 'KIT digital', 'permalink': 'kit-digital'}}},\n",
       " {'name': 'NetRatings',\n",
       "  'acquisition': {'price_amount': 327000000,\n",
       "   'price_currency_code': 'USD',\n",
       "   'term_code': 'cash',\n",
       "   'source_url': 'http://login.vnuemedia.com/hr/login/login_subscribe.jsp?id=0oqDem1gYIfIclz9i2%2Ffqj5NxCp2AC5DPbVnyT2da8GyV2mXjasabE128n69OrmcAh52%2FGE3pSG%2F%0AEKRYD9vh9EhrJrxukmUzh532fSMTZXL42gwPB80UWVtF1NwJ5UZSM%2BCkLU1mpYBoHFgiH%2Fi0f6Ax%0A9yMIVxt47t%2BHamhEQ0nkOEK24L',\n",
       "   'source_description': 'Nielsen buys rest of NetRatings',\n",
       "   'acquired_year': 2007,\n",
       "   'acquired_month': 2,\n",
       "   'acquired_day': None,\n",
       "   'acquiring_company': {'name': 'Nielsen', 'permalink': 'nielsen'}}},\n",
       " {'name': 'blogTV',\n",
       "  'acquisition': {'price_amount': None,\n",
       "   'price_currency_code': 'USD',\n",
       "   'term_code': None,\n",
       "   'source_url': 'http://techcrunch.com/2013/03/13/younow-buys-blogtv/',\n",
       "   'source_description': 'Live Social Video Network YouNow Acquires Streaming Service BlogTV',\n",
       "   'acquired_year': 2013,\n",
       "   'acquired_month': 3,\n",
       "   'acquired_day': 13,\n",
       "   'acquiring_company': {'name': 'YouNow', 'permalink': 'younow'}}},\n",
       " {'name': 'Livestream',\n",
       "  'acquisition': {'price_amount': None,\n",
       "   'price_currency_code': 'USD',\n",
       "   'term_code': 'cash_and_stock',\n",
       "   'source_url': '',\n",
       "   'source_description': 'company',\n",
       "   'acquired_year': 2008,\n",
       "   'acquired_month': 1,\n",
       "   'acquired_day': 1,\n",
       "   'acquiring_company': {'name': 'Adviqo', 'permalink': 'adviqo'}}},\n",
       " {'name': 'iContact',\n",
       "  'acquisition': {'price_amount': 169000000,\n",
       "   'price_currency_code': 'USD',\n",
       "   'term_code': 'cash_and_stock',\n",
       "   'source_url': 'http://techcrunch.com/2012/02/28/vocus-buys-email-marketing-company-icontact-for-169-million/',\n",
       "   'source_description': 'Vocus Buys Email Marketing Company iContact For $169 Million',\n",
       "   'acquired_year': 2012,\n",
       "   'acquired_month': 2,\n",
       "   'acquired_day': 28,\n",
       "   'acquiring_company': {'name': 'Vocus', 'permalink': 'vocus'}}},\n",
       " {'name': 'Coghead',\n",
       "  'acquisition': {'price_amount': None,\n",
       "   'price_currency_code': 'USD',\n",
       "   'term_code': None,\n",
       "   'source_url': 'http://www.techcrunch.com/2009/02/19/sap-acquires-cogheads-technology-as-it-looks-towards-the-cloud/',\n",
       "   'source_description': 'SAP Acquires Cogheadâ€™s Technology As It Looks Towards The Cloud',\n",
       "   'acquired_year': 2009,\n",
       "   'acquired_month': 2,\n",
       "   'acquired_day': 19,\n",
       "   'acquiring_company': {'name': 'SAP', 'permalink': 'sap'}}},\n",
       " {'name': 'Dailymotion',\n",
       "  'acquisition': {'price_amount': 168000000,\n",
       "   'price_currency_code': 'USD',\n",
       "   'term_code': None,\n",
       "   'source_url': 'http://techcrunch.com/2013/02/22/orange-acquired-dailymotion-for-168-million-by-buying-out-the-remaining-51-stake/',\n",
       "   'source_description': 'Orange Acquired Dailymotion For $168 Million By Buying Out Remaining 51% Stake [Update: Orange Confirms]',\n",
       "   'acquired_year': 2013,\n",
       "   'acquired_month': 2,\n",
       "   'acquired_day': 22,\n",
       "   'acquiring_company': {'name': 'Orange', 'permalink': 'orange'}}},\n",
       " {'name': 'Netvibes',\n",
       "  'acquisition': {'price_amount': None,\n",
       "   'price_currency_code': 'USD',\n",
       "   'term_code': None,\n",
       "   'source_url': 'http://www.marketwatch.com/story/dassault-systemes-acquires-netvibes-2012-02-09',\n",
       "   'source_description': 'Dassault Systemes Acquires Netvibes',\n",
       "   'acquired_year': 2012,\n",
       "   'acquired_month': 2,\n",
       "   'acquired_day': 9,\n",
       "   'acquiring_company': {'name': 'Dassault Systemes',\n",
       "    'permalink': 'dassault'}}},\n",
       " {'name': 'Flickr',\n",
       "  'acquisition': {'price_amount': None,\n",
       "   'price_currency_code': 'USD',\n",
       "   'term_code': 'cash_and_stock',\n",
       "   'source_url': 'http://news.cnet.com/Yahoo-buys-photo-sharing-site-Flickr/2100-1038_3-5627640.html?tag=mncol;txt',\n",
       "   'source_description': 'CNET',\n",
       "   'acquired_year': 2005,\n",
       "   'acquired_month': 3,\n",
       "   'acquired_day': None,\n",
       "   'acquiring_company': {'name': 'Yahoo!', 'permalink': 'yahoo'}}},\n",
       " {'name': 'BabyCenter',\n",
       "  'acquisition': {'price_amount': None,\n",
       "   'price_currency_code': 'USD',\n",
       "   'term_code': None,\n",
       "   'source_url': 'http://www.investor.jnj.com/releasedetail.cfm?releaseid=63836',\n",
       "   'source_description': 'Johnson & Johnson Acquires BabyCenter From eToys, Inc. Leading Online Destination for Parents Plans for Continued Expansion of Operations',\n",
       "   'acquired_year': 2001,\n",
       "   'acquired_month': 3,\n",
       "   'acquired_day': 2,\n",
       "   'acquiring_company': {'name': 'Johnson & Johnson',\n",
       "    'permalink': 'johnson-johnson'}}}]"
      ]
     },
     "execution_count": 146,
     "metadata": {},
     "output_type": "execute_result"
    }
   ],
   "source": [
    "list(c.find(filtro, proj).limit(10))"
   ]
  },
  {
   "cell_type": "markdown",
   "metadata": {},
   "source": [
    "# Bonus\n",
    "### 19. All the companies that have been founded between 2000 and 2010, but have not been acquired before 2011."
   ]
  },
  {
   "cell_type": "code",
   "execution_count": 148,
   "metadata": {},
   "outputs": [],
   "source": [
    "# Your Code\n",
    "proj = {\"_id\": 0, \"name\":1}\n",
    "filtro = {\"$and\" : [{\"founded_year\": {\"$lte\": 2010}}, {\"founded_year\": {\"$gte\": 2000}}, {\"acquisition.acquired_year\": {\"$gt\" : 2011}}]}"
   ]
  },
  {
   "cell_type": "code",
   "execution_count": 149,
   "metadata": {},
   "outputs": [
    {
     "data": {
      "text/plain": [
       "[{'name': 'Wetpaint'},\n",
       " {'name': 'Digg'},\n",
       " {'name': 'Geni'},\n",
       " {'name': 'blogTV'},\n",
       " {'name': 'Revision3'}]"
      ]
     },
     "execution_count": 149,
     "metadata": {},
     "output_type": "execute_result"
    }
   ],
   "source": [
    "list(c.find(filtro, proj).limit(5))"
   ]
  },
  {
   "cell_type": "markdown",
   "metadata": {},
   "source": [
    "### 20. All the companies that have been 'deadpooled' after the third year."
   ]
  },
  {
   "cell_type": "code",
   "execution_count": 195,
   "metadata": {},
   "outputs": [],
   "source": [
    "# Intentado pero no me sale...\n",
    "proj = {\"_id\": 0, \"name\":1, \"deadpooled_year\":1}\n",
    "filtro = {\"deadpooled_year\": {\"$gt\": 3}}\n",
    "filtro = {\"$and\" : [{\"deadpooled_year\": {\"$gt\": 3}}, {\"deadpooled_year\": {\"$regex\": \"\\d{1}\"}}]}"
   ]
  },
  {
   "cell_type": "code",
   "execution_count": 196,
   "metadata": {},
   "outputs": [
    {
     "data": {
      "text/plain": [
       "[]"
      ]
     },
     "execution_count": 196,
     "metadata": {},
     "output_type": "execute_result"
    }
   ],
   "source": [
    "list(c.find(filtro, proj).limit(5))"
   ]
  }
 ],
 "metadata": {
  "kernelspec": {
   "display_name": "Python 3",
   "language": "python",
   "name": "python3"
  },
  "language_info": {
   "codemirror_mode": {
    "name": "ipython",
    "version": 3
   },
   "file_extension": ".py",
   "mimetype": "text/x-python",
   "name": "python",
   "nbconvert_exporter": "python",
   "pygments_lexer": "ipython3",
   "version": "3.9.1"
  }
 },
 "nbformat": 4,
 "nbformat_minor": 2
}
